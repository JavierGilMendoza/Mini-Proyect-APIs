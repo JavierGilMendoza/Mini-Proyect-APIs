import os
import pandas as pd

# Define la ruta a la carpeta que contiene los CSV
folder_path = 'data/raw'  # ← Cambia esto por la ruta real

# Lista para almacenar todos los nombres de equipos
all_teams = set()

# Recorre cada archivo CSV en la carpeta
for filename in os.listdir(folder_path):
    if filename.endswith('.csv'):
        file_path = os.path.join(folder_path, filename)
        
        try:
            df = pd.read_csv(file_path)
            
            # Asegúrate de que las columnas existen antes de usarlas
            if 'HomeTeam' in df.columns and 'AwayTeam' in df.columns:
                home_teams = df['HomeTeam'].dropna().unique()
                away_teams = df['AwayTeam'].dropna().unique()
                
                all_teams.update(home_teams)
                all_teams.update(away_teams)
            else:
                print(f"Columnas no encontradas en: {filename}")
        except Exception as e:
            print(f"Error leyendo {filename}: {e}")

# Convertimos a lista y ordenamos alfabéticamente
team_list = sorted(all_teams)

# Mostramos los equipos encontrados
print("Equipos únicos encontrados:")
for team in team_list:
    print(team)

